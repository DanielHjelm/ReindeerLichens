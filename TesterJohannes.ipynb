{
 "cells": [
  {
   "cell_type": "code",
   "execution_count": 1,
   "id": "edf767ea-a861-4d88-ba58-6b5bdbffdfc7",
   "metadata": {},
   "outputs": [],
   "source": [
    "import cv2 as cv\n",
    "import numpy as np\n",
    "import glob\n",
    "import random\n",
    "from removeFrame import removeFrame\n",
    "from PIL import Image\n",
    "from matplotlib import pyplot as plt"
   ]
  },
  {
   "cell_type": "code",
   "execution_count": null,
   "id": "c539bdce-548c-4f78-af12-96dbee47af9c",
   "metadata": {},
   "outputs": [
    {
     "name": "stdout",
     "output_type": "stream",
     "text": [
      "Loading: C:\\Users\\johan\\OneDrive\\Skrivbord\\Images\\Images\\IMG_20221101_125520.jpg\n",
      "(2736, 3648)\n",
      "Loading: C:\\Users\\johan\\OneDrive\\Skrivbord\\Images\\Images\\IMG_20221101_130550.jpg\n",
      "(2736, 3648)\n",
      "Loading: C:\\Users\\johan\\OneDrive\\Skrivbord\\Images\\Images\\IMG_0170.JPG\n",
      "(3695, 3690)\n",
      "Loading: C:\\Users\\johan\\OneDrive\\Skrivbord\\Images\\Images\\IMG_0184.JPG\n",
      "(3745, 3664)\n",
      "Loading: C:\\Users\\johan\\OneDrive\\Skrivbord\\Images\\Images\\IMG_0243.JPG\n",
      "(3860, 3790)\n",
      "Loading: C:\\Users\\johan\\OneDrive\\Skrivbord\\Images\\Images\\IMG_20221101_114353.jpg\n",
      "(2736, 3648)\n",
      "Loading: C:\\Users\\johan\\OneDrive\\Skrivbord\\Images\\Images\\IMG_20221028_160754.jpg\n",
      "(2346, 2336)\n",
      "Loading: C:\\Users\\johan\\OneDrive\\Skrivbord\\Images\\Images\\IMG_6689.jpg\n",
      "(3440, 3427)\n",
      "Loading: C:\\Users\\johan\\OneDrive\\Skrivbord\\Images\\Images\\IMG_6698.jpg\n",
      "(3477, 3449)\n",
      "Loading: C:\\Users\\johan\\OneDrive\\Skrivbord\\Images\\Images\\IMG_20221028_160431.jpg\n",
      "(2407, 2487)\n",
      "Loading: C:\\Users\\johan\\OneDrive\\Skrivbord\\Images\\Images\\IMG_20221028_161544.jpg\n"
     ]
    }
   ],
   "source": [
    "# Replace 'path' and give a fraction as 'sample'\n",
    "path = glob.glob(r\"C:\\Users\\johan\\OneDrive\\Skrivbord\\masked images examples\\img\\*.png\")\n",
    "path = glob.glob(r\"C:\\Users\\johan\\OneDrive\\Skrivbord\\Images\\Images\\*.jpg\")\n",
    "sample = 0.03 # fraction of all pictures being sampled\n",
    "size = (2560, 2560) # New size of all pictures - choosen arbitrary\n",
    "\n",
    "\n",
    "# Samples pictures from the folder\n",
    "# Uses removeFrame, then coverts to a PIL Image (just for easy resizing) and saves all images in a single vector\n",
    "path = random.sample(path, int(np.ceil(sample*int(np.size(path))))) \n",
    "img_vec = np.empty([size[0],size[1],1])\n",
    "for i in path:\n",
    "    print('Loading: ' + i)\n",
    "    #n = cv.imread(i,0) # Reads an image, 2nd argument = 0 => grayscale\n",
    "    #n = Image.open(i).convert('L') # Reads and convert('L') => grayscale\n",
    "    n = removeFrame(i)\n",
    "    n = Image.fromarray(n).convert('L') # Reads and convert('L') => grayscale\n",
    "    print(np.shape(n))\n",
    "    n = n.resize(size)\n",
    "    n = np.asarray(n)\n",
    "    n = n[..., np.newaxis]\n",
    "    img_vec = np.concatenate((img_vec,n),axis=2)\n",
    "img_vec = img_vec[:,:,1:] # Removes \"first imgae\" = empty vector\n",
    "print('Shape of img_vec: ' + str(np.shape(img_vec)))"
   ]
  },
  {
   "cell_type": "code",
   "execution_count": null,
   "id": "ef0267f0-d464-44e9-a03f-5eb96a990651",
   "metadata": {},
   "outputs": [],
   "source": []
  },
  {
   "cell_type": "code",
   "execution_count": null,
   "id": "29d5df0a-1fa4-4dbf-aafa-817a680c80c8",
   "metadata": {},
   "outputs": [],
   "source": [
    "# Plot first images, maximum 36\n",
    "n = np.size(img_vec[0,0,:]) # number of images in vector\n",
    "if n > 36:\n",
    "    n = 36\n",
    "grid_size = int(np.ceil(np.sqrt(n)))\n",
    "fig = plt.figure(figsize=(grid_size,grid_size))\n",
    "for i in range(n): # 1 run for each image in the image vector\n",
    "    fig.add_subplot(grid_size,grid_size, i+1)\n",
    "    plt.imshow(img_vec[:,:,i])\n",
    "fig.set_figheight(12)\n",
    "fig.set_figwidth(12)\n",
    "plt.subplots_adjust(bottom=0.05, right=0.8, top=0.95)\n",
    "cax = plt.axes([0.82, 0.1, 0.03, 0.80])\n",
    "plt.colorbar(cax=cax)\n",
    "plt.show()"
   ]
  },
  {
   "cell_type": "code",
   "execution_count": null,
   "id": "c9ea2ac7-25a9-4263-8577-fd2f870b8c28",
   "metadata": {},
   "outputs": [],
   "source": [
    "fig.savefig('Tester_med_ram.jpg')"
   ]
  },
  {
   "cell_type": "code",
   "execution_count": null,
   "id": "d8a30b40-5bd1-498b-a5f0-a2dffecba518",
   "metadata": {},
   "outputs": [],
   "source": []
  }
 ],
 "metadata": {
  "kernelspec": {
   "display_name": "Python 3 (ipykernel)",
   "language": "python",
   "name": "python3"
  },
  "language_info": {
   "codemirror_mode": {
    "name": "ipython",
    "version": 3
   },
   "file_extension": ".py",
   "mimetype": "text/x-python",
   "name": "python",
   "nbconvert_exporter": "python",
   "pygments_lexer": "ipython3",
   "version": "3.9.12"
  }
 },
 "nbformat": 4,
 "nbformat_minor": 5
}
